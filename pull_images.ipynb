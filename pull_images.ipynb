{
 "cells": [
  {
   "cell_type": "markdown",
   "id": "981fc644",
   "metadata": {},
   "source": [
    "# Image Download Notebook"
   ]
  },
  {
   "cell_type": "markdown",
   "id": "f6c4223a",
   "metadata": {},
   "source": [
    "The purpose of this notebook is to automatically fetch and download a portion of the images into your local storage. Since it is generally not good practice to commit huge media files (even with 10% it's still 1.5GB), this is a great way to control your usage of data, allowing anyone to work with different slices of the image pool, for performance reasons of course."
   ]
  },
  {
   "cell_type": "code",
   "execution_count": 1,
   "id": "d01673f5",
   "metadata": {},
   "outputs": [
    {
     "data": {
      "application/vnd.microsoft.datawrangler.viewer.v0+json": {
       "columns": [
        {
         "name": "index",
         "rawType": "int64",
         "type": "integer"
        },
        {
         "name": "id",
         "rawType": "int64",
         "type": "integer"
        },
        {
         "name": "gender",
         "rawType": "object",
         "type": "string"
        },
        {
         "name": "masterCategory",
         "rawType": "object",
         "type": "string"
        },
        {
         "name": "subCategory",
         "rawType": "object",
         "type": "string"
        },
        {
         "name": "articleType",
         "rawType": "object",
         "type": "string"
        },
        {
         "name": "baseColour",
         "rawType": "object",
         "type": "string"
        },
        {
         "name": "season",
         "rawType": "object",
         "type": "string"
        },
        {
         "name": "year",
         "rawType": "float64",
         "type": "float"
        },
        {
         "name": "usage",
         "rawType": "object",
         "type": "string"
        },
        {
         "name": "productDisplayName",
         "rawType": "object",
         "type": "string"
        }
       ],
       "ref": "56bf9de8-929c-46dc-98bc-73dbdbfca4b2",
       "rows": [
        [
         "13290",
         "34307",
         "Women",
         "Accessories",
         "Stoles",
         "Stoles",
         "Black",
         "Summer",
         "2012.0",
         "Ethnic",
         "Fabindia Women Black Silk & Wool Stole"
        ],
        [
         "28464",
         "18940",
         "Men",
         "Apparel",
         "Topwear",
         "Tshirts",
         "Olive",
         "Fall",
         "2011.0",
         "Casual",
         "Levi's Men Polo Olive Tshirt"
        ],
        [
         "2788",
         "35588",
         "Men",
         "Footwear",
         "Sandal",
         "Sandals",
         "Black",
         "Fall",
         "2012.0",
         "Casual",
         "Gliders Men Black Sandals"
        ],
        [
         "14290",
         "7804",
         "Men",
         "Footwear",
         "Shoes",
         "Casual Shoes",
         "Black",
         "Fall",
         "2011.0",
         "Casual",
         "Puma Men's Benecio Mid Leather Black White Shoe"
        ],
        [
         "41900",
         "27856",
         "Women",
         "Apparel",
         "Topwear",
         "Shirts",
         "Red",
         "Summer",
         "2012.0",
         "Casual",
         "Scullers For Her Check Red Shirt"
        ]
       ],
       "shape": {
        "columns": 10,
        "rows": 5
       }
      },
      "text/html": [
       "<div>\n",
       "<style scoped>\n",
       "    .dataframe tbody tr th:only-of-type {\n",
       "        vertical-align: middle;\n",
       "    }\n",
       "\n",
       "    .dataframe tbody tr th {\n",
       "        vertical-align: top;\n",
       "    }\n",
       "\n",
       "    .dataframe thead th {\n",
       "        text-align: right;\n",
       "    }\n",
       "</style>\n",
       "<table border=\"1\" class=\"dataframe\">\n",
       "  <thead>\n",
       "    <tr style=\"text-align: right;\">\n",
       "      <th></th>\n",
       "      <th>id</th>\n",
       "      <th>gender</th>\n",
       "      <th>masterCategory</th>\n",
       "      <th>subCategory</th>\n",
       "      <th>articleType</th>\n",
       "      <th>baseColour</th>\n",
       "      <th>season</th>\n",
       "      <th>year</th>\n",
       "      <th>usage</th>\n",
       "      <th>productDisplayName</th>\n",
       "    </tr>\n",
       "  </thead>\n",
       "  <tbody>\n",
       "    <tr>\n",
       "      <th>13290</th>\n",
       "      <td>34307</td>\n",
       "      <td>Women</td>\n",
       "      <td>Accessories</td>\n",
       "      <td>Stoles</td>\n",
       "      <td>Stoles</td>\n",
       "      <td>Black</td>\n",
       "      <td>Summer</td>\n",
       "      <td>2012.0</td>\n",
       "      <td>Ethnic</td>\n",
       "      <td>Fabindia Women Black Silk &amp; Wool Stole</td>\n",
       "    </tr>\n",
       "    <tr>\n",
       "      <th>28464</th>\n",
       "      <td>18940</td>\n",
       "      <td>Men</td>\n",
       "      <td>Apparel</td>\n",
       "      <td>Topwear</td>\n",
       "      <td>Tshirts</td>\n",
       "      <td>Olive</td>\n",
       "      <td>Fall</td>\n",
       "      <td>2011.0</td>\n",
       "      <td>Casual</td>\n",
       "      <td>Levi's Men Polo Olive Tshirt</td>\n",
       "    </tr>\n",
       "    <tr>\n",
       "      <th>2788</th>\n",
       "      <td>35588</td>\n",
       "      <td>Men</td>\n",
       "      <td>Footwear</td>\n",
       "      <td>Sandal</td>\n",
       "      <td>Sandals</td>\n",
       "      <td>Black</td>\n",
       "      <td>Fall</td>\n",
       "      <td>2012.0</td>\n",
       "      <td>Casual</td>\n",
       "      <td>Gliders Men Black Sandals</td>\n",
       "    </tr>\n",
       "    <tr>\n",
       "      <th>14290</th>\n",
       "      <td>7804</td>\n",
       "      <td>Men</td>\n",
       "      <td>Footwear</td>\n",
       "      <td>Shoes</td>\n",
       "      <td>Casual Shoes</td>\n",
       "      <td>Black</td>\n",
       "      <td>Fall</td>\n",
       "      <td>2011.0</td>\n",
       "      <td>Casual</td>\n",
       "      <td>Puma Men's Benecio Mid Leather Black White Shoe</td>\n",
       "    </tr>\n",
       "    <tr>\n",
       "      <th>41900</th>\n",
       "      <td>27856</td>\n",
       "      <td>Women</td>\n",
       "      <td>Apparel</td>\n",
       "      <td>Topwear</td>\n",
       "      <td>Shirts</td>\n",
       "      <td>Red</td>\n",
       "      <td>Summer</td>\n",
       "      <td>2012.0</td>\n",
       "      <td>Casual</td>\n",
       "      <td>Scullers For Her Check Red Shirt</td>\n",
       "    </tr>\n",
       "  </tbody>\n",
       "</table>\n",
       "</div>"
      ],
      "text/plain": [
       "          id gender masterCategory subCategory   articleType baseColour  \\\n",
       "13290  34307  Women    Accessories      Stoles        Stoles      Black   \n",
       "28464  18940    Men        Apparel     Topwear       Tshirts      Olive   \n",
       "2788   35588    Men       Footwear      Sandal       Sandals      Black   \n",
       "14290   7804    Men       Footwear       Shoes  Casual Shoes      Black   \n",
       "41900  27856  Women        Apparel     Topwear        Shirts        Red   \n",
       "\n",
       "       season    year   usage                               productDisplayName  \n",
       "13290  Summer  2012.0  Ethnic           Fabindia Women Black Silk & Wool Stole  \n",
       "28464    Fall  2011.0  Casual                     Levi's Men Polo Olive Tshirt  \n",
       "2788     Fall  2012.0  Casual                        Gliders Men Black Sandals  \n",
       "14290    Fall  2011.0  Casual  Puma Men's Benecio Mid Leather Black White Shoe  \n",
       "41900  Summer  2012.0  Casual                 Scullers For Her Check Red Shirt  "
      ]
     },
     "execution_count": 1,
     "metadata": {},
     "output_type": "execute_result"
    }
   ],
   "source": [
    "# RUN CELL TO LOAD CSV FILES\n",
    "\n",
    "import pandas as pd\n",
    "\n",
    "# Load image index (images.csv)\n",
    "links = pd.read_csv('./images.csv')\n",
    "\n",
    "# Load styles index (styles.csv)\n",
    "styles = pd.read_csv('./styles.csv', on_bad_lines='skip')\n",
    "\n",
    "styles.sample(5)"
   ]
  },
  {
   "cell_type": "markdown",
   "id": "0928da35",
   "metadata": {},
   "source": [
    "## Sampling"
   ]
  },
  {
   "cell_type": "markdown",
   "id": "131fdb64",
   "metadata": {},
   "source": [
    "Our main goal here is to pick a 10% (lower or higher as you wish) sample from the image pool. This sample will not just be random, but also reflect the right distribution of attributes (e.g. 16% of the orignal images are T-shirts, so should the sample be). This is called stratified sampling.\n",
    "\n",
    "The cell below will take a controlled fraction of the image pool, according to a predefined RNG seed for reproducibility. You may change the values of the magic strings SAMPLE_FRAC and SEED to produce a different size or composition, respectively.\n",
    "\n",
    "The output DataFrame is df_sampled."
   ]
  },
  {
   "cell_type": "code",
   "execution_count": 2,
   "id": "77a9f2b4",
   "metadata": {},
   "outputs": [
    {
     "name": "stdout",
     "output_type": "stream",
     "text": [
      "Sampled 3823 entries (10.0%) from original 44424 entries as 'df_sampled'.\n",
      "\n",
      "\n",
      "--- Summary for 'gender' ---\n",
      "Median absolute % difference across all unique values: 13.20%\n",
      "\n",
      "--- Summary for 'masterCategory' ---\n",
      "Median absolute % difference across all unique values: 13.92%\n",
      "\n",
      "--- Summary for 'subCategory' ---\n",
      "Median absolute % difference across all unique values: 30.77%\n",
      "\n",
      "--- Summary for 'articleType' ---\n",
      "Median absolute % difference across all unique values: 61.27%\n",
      "\n",
      "--- Summary for 'baseColour' ---\n",
      "Median absolute % difference across all unique values: 29.23%\n",
      "\n",
      "--- Summary for 'season' ---\n",
      "Median absolute % difference across all unique values: 1.49%\n",
      "\n",
      "--- Summary for 'usage' ---\n",
      "Median absolute % difference across all unique values: 32.82%\n",
      "\n",
      "\n",
      "\n"
     ]
    },
    {
     "name": "stderr",
     "output_type": "stream",
     "text": [
      "C:\\Users\\chita\\AppData\\Local\\Temp\\ipykernel_23308\\3189244784.py:8: DeprecationWarning: DataFrameGroupBy.apply operated on the grouping columns. This behavior is deprecated, and in a future version of pandas the grouping columns will be excluded from the operation. Either pass `include_groups=False` to exclude the groupings or explicitly select the grouping columns after groupby to silence this warning.\n",
      "  df_sampled = styles.groupby(cols, group_keys=False).apply(\n"
     ]
    }
   ],
   "source": [
    "# CONTROL PARAMETERS FOR SAMPLING\n",
    "SAMPLE_FRAC = 0.1\n",
    "SEED = 123\n",
    "\n",
    "\n",
    "cols = ['gender', 'masterCategory', 'subCategory', 'articleType', 'baseColour', 'season', 'usage']\n",
    "\n",
    "df_sampled = styles.groupby(cols, group_keys=False).apply(\n",
    "    lambda x: x.sample(frac=SAMPLE_FRAC, random_state=SEED)\n",
    ").reset_index(drop=True)\n",
    "\n",
    "print(f\"Sampled {len(df_sampled)} entries ({SAMPLE_FRAC*100}%) from original {len(styles)} entries as 'df_sampled'.\\n\")\n",
    "\n",
    "# Comparing distributions between sample and original\n",
    "for col in cols:\n",
    "    print(f\"\\n--- Summary for '{col}' ---\")\n",
    "    orig_dist = styles[col].value_counts(normalize=True).sort_index()\n",
    "    samp_dist = df_sampled[col].value_counts(normalize=True).sort_index()\n",
    "        \n",
    "    # Align indices (add missing with 0)\n",
    "    all_vals = set(orig_dist.index) | set(samp_dist.index)\n",
    "    orig_aligned = orig_dist.reindex(all_vals, fill_value=0)\n",
    "    samp_aligned = samp_dist.reindex(all_vals, fill_value=0)\n",
    "        \n",
    "    # Calculate % diffs for aligned values\n",
    "    pct_diffs = []\n",
    "    for val in all_vals:\n",
    "        orig_p = orig_aligned[val]\n",
    "        samp_p = samp_aligned[val]\n",
    "        if orig_p == 0:\n",
    "            if samp_p == 0:\n",
    "                continue  # Skip 0-0\n",
    "            else:\n",
    "                pct_diffs.append(float('inf'))  # Flag new values\n",
    "        else:\n",
    "            pct_diff = ((samp_p - orig_p) / orig_p) * 100\n",
    "            pct_diffs.append(abs(pct_diff))  # Absolute for median\n",
    "        \n",
    "    # Median abs % diff (ignore inf for median calc)\n",
    "    numeric_diffs = [d for d in pct_diffs if isinstance(d, float) and d < float('inf')]\n",
    "    if numeric_diffs:\n",
    "        sorted_diffs = sorted(numeric_diffs)\n",
    "        n = len(sorted_diffs)\n",
    "        if n % 2 == 1:\n",
    "            median_abs_diff = sorted_diffs[n//2]\n",
    "        else:\n",
    "            median_abs_diff = (sorted_diffs[n//2 - 1] + sorted_diffs[n//2]) / 2\n",
    "    else:\n",
    "        median_abs_diff = 0\n",
    "        \n",
    "    print(f\"Median absolute % difference across all unique values: {median_abs_diff:.2f}%\")\n",
    "    if any(d == float('inf') for d in pct_diffs):\n",
    "        print(\"Warning: New categories appeared in sample (check manually)\")\n",
    "print(\"\\n\\n\")"
   ]
  },
  {
   "cell_type": "markdown",
   "id": "ba2ecb49",
   "metadata": {},
   "source": [
    "The diagnostics above are just a way to see how closely the distribution of unique values in each column (except *id* and *productDisplayName*) matches the original 44.4k set. While some **rare** uniques may be dropped, this shouldn't matter much as we aim to reinforce the model with more commonly observed values. This is where the median % error comes in handy - to check how much more/fewer samples were taken in the respect to the original proportions of unique values in each column.\n",
    "\n",
    "Ultimately, this comes across as trade-off: higher sample fraction = less error, but also more data to handle. Make your decision."
   ]
  },
  {
   "cell_type": "markdown",
   "id": "18ac049a",
   "metadata": {},
   "source": [
    "## Download Images"
   ]
  },
  {
   "cell_type": "markdown",
   "id": "afce1323",
   "metadata": {},
   "source": [
    "Once you've decided on your personal slice of the dataset, it's time to pull them via URLs from the *images.csv* file.\n",
    "\n",
    "To break it down, these cells will create a new folder, *raw_images* in the current directory, and an HTTP request client will be used to download the specified URLs and store them in said folder.\n",
    "\n",
    "If you execute the **2ND CELL** before reassigning *DOWNLOAD_INDEX*, 10 random images from the sampled pool will be downloaded instead of the whole thing. This is a safety measure to prevent the unintended consequences of Run Alls and uninformed decisions :p\n",
    "\n",
    "To download the **sample set**, make sure *DOWNLOAD_INDEX = df_images_to_download* (not *df_test*), then run. The images will be downloaded in around 10-15 minutes and named accordingly in the *raw_images* folder. Be aware that this will use multiple threads out of your CPU to download as quickly as possible.\n",
    "\n",
    "Don't worry if the download was interrupted, this will skip the ones that were already downloaded and pick up where you left off.\n",
    "\n",
    "Have a go at it and good luck!"
   ]
  },
  {
   "cell_type": "code",
   "execution_count": 3,
   "id": "60ccd466",
   "metadata": {},
   "outputs": [],
   "source": [
    "# Shortlist images by matching IDs from sampled styles with images.csv\n",
    "links['id'] = links['filename'].str.split('.').str[0]\n",
    "sampled_ids = set(df_sampled['id'].astype(str))\n",
    "df_images_to_download = links[links['id'].isin(sampled_ids)].reset_index(drop=True)\n",
    "\n",
    "# A small test sample\n",
    "df_test = df_images_to_download.sample(10, random_state=SEED)"
   ]
  },
  {
   "cell_type": "code",
   "execution_count": null,
   "id": "0d2dee5c",
   "metadata": {},
   "outputs": [
    {
     "name": "stderr",
     "output_type": "stream",
     "text": [
      "Downloading:   0%|          | 0/10 [00:00<?, ?it/s]"
     ]
    },
    {
     "name": "stderr",
     "output_type": "stream",
     "text": [
      "Downloading: 100%|██████████| 10/10 [00:00<00:00, 18.43it/s]"
     ]
    },
    {
     "name": "stdout",
     "output_type": "stream",
     "text": [
      "\n",
      "Download complete!\n",
      "Successful: 10/10\n",
      "Failed: 0\n"
     ]
    },
    {
     "name": "stderr",
     "output_type": "stream",
     "text": [
      "\n"
     ]
    }
   ],
   "source": [
    "import os\n",
    "import requests\n",
    "from tqdm import tqdm\n",
    "from concurrent.futures import ThreadPoolExecutor, as_completed\n",
    "\n",
    "# IMPORTANT: BEFORE RUNNING, CHANGE TO df_images_to_download TO DOWNLOAD FULL SET\n",
    "DOWNLOAD_INDEX = df_test\n",
    "\n",
    "# Making directory to save images\n",
    "download_dir = 'raw_images'\n",
    "os.makedirs(download_dir, exist_ok=True)\n",
    "\n",
    "\n",
    "\n",
    "# Download images with progress bar\n",
    "# Create session for connection pooling (reuses TCP connections for speed)\n",
    "session = requests.Session()\n",
    "session.headers.update({'User-Agent': 'Mozilla/5.0'})  # Avoid blocks\n",
    "\n",
    "successful = 0\n",
    "failed = []\n",
    "max_workers = 10\n",
    "\n",
    "# Function to download a single image\n",
    "def download_image(args):\n",
    "    name, url = args\n",
    "    filename = f\"{name}.jpg\"  # Customize as before\n",
    "    \n",
    "    filepath = os.path.join(download_dir, filename)\n",
    "    \n",
    "    if os.path.exists(filepath):\n",
    "        return name, 'already_exists'  # Skip if done\n",
    "    \n",
    "    try:\n",
    "        response = session.get(url, timeout=10)\n",
    "        response.raise_for_status()\n",
    "        \n",
    "        with open(filepath, 'wb') as f:\n",
    "            f.write(response.content)\n",
    "        return name, 'success'\n",
    "    except Exception as e:\n",
    "        return name, f'error: {str(e)}'\n",
    "\n",
    "# Multithreaded download with progress bar\n",
    "with ThreadPoolExecutor(max_workers=max_workers) as executor:\n",
    "    # Submit all tasks\n",
    "    future_to_idx = {\n",
    "        executor.submit(download_image, (row['id'], row['link'])): idx \n",
    "        for idx, row in DOWNLOAD_INDEX.iterrows() \n",
    "        if not pd.isna(row['link']) and isinstance(row['link'], str) and row['link'].startswith('http')\n",
    "    }\n",
    "    \n",
    "    # Progress bar over completed futures\n",
    "    with tqdm(total=len(future_to_idx), desc=\"Downloading\") as pbar:\n",
    "        for future in as_completed(future_to_idx):\n",
    "            idx = future_to_idx[future]\n",
    "            try:\n",
    "                result = future.result()\n",
    "                status = result[1]\n",
    "                if status == 'success':\n",
    "                    successful += 1\n",
    "                else:\n",
    "                    failed.append((idx, status))\n",
    "            except Exception as e:\n",
    "                failed.append((idx, f'unexpected: {str(e)}'))\n",
    "            pbar.update(1)\n",
    "    \n",
    "# Summary\n",
    "print(\"\\nDownload complete!\")\n",
    "print(f\"Successful: {successful}/{len(DOWNLOAD_INDEX)}\")\n",
    "print(f\"Failed: {len(failed)}\")\n",
    "    \n",
    "if failed:\n",
    "    print(\"\\nSample failures:\")\n",
    "    for idx, reason in failed[:5]:\n",
    "        print(f\"\\tRow {idx}: {reason}\")"
   ]
  },
  {
   "cell_type": "markdown",
   "id": "6e300eb8",
   "metadata": {},
   "source": [
    "After the last cell has done executing, you should have the same number of images as there are samples selected from the first step. Don't worry if it says 0 successful, it's just clunky spaghetti code sourced from Grok, your images should be fine.\n",
    "\n",
    "Beyond this point, we can start looking into getting a basic CLIP model up and fitting the images."
   ]
  }
 ],
 "metadata": {
  "kernelspec": {
   "display_name": "Python 3",
   "language": "python",
   "name": "python3"
  },
  "language_info": {
   "codemirror_mode": {
    "name": "ipython",
    "version": 3
   },
   "file_extension": ".py",
   "mimetype": "text/x-python",
   "name": "python",
   "nbconvert_exporter": "python",
   "pygments_lexer": "ipython3",
   "version": "3.12.2"
  }
 },
 "nbformat": 4,
 "nbformat_minor": 5
}
